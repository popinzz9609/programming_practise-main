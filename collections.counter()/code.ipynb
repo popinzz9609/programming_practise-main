{
 "cells": [
  {
   "cell_type": "markdown",
   "metadata": {},
   "source": [
    "Ragu is a shoe shop owner. His shop has x number of shoes.\n",
    "He has a list containing the size of each shoe he has in his shop.\n",
    "There are n number of customers who are willing to pay  amount of money only if they get the shoe of their desired size.\n",
    "\n",
    "Your task is to compute how much money  ragu earned."
   ]
  },
  {
   "cell_type": "code",
   "execution_count": null,
   "metadata": {},
   "outputs": [],
   "source": [
    "from collections import Counter\n",
    "\n",
    "def calculate_earnings(num_shoes, shoe_sizes, num_customers, customer_requests):\n",
    "    # Count the available shoe sizes\n",
    "    available_shoes = Counter(shoe_sizes)\n",
    "    \n",
    "    total_earnings = 0\n",
    "    \n",
    "    # Process each customer request\n",
    "    for request in customer_requests:\n",
    "        size, price = request\n",
    "        if available_shoes[size] > 0:  # If the desired size is available\n",
    "            total_earnings += price\n",
    "            available_shoes[size] -= 1  # Decrement the count of available shoes\n",
    "    \n",
    "    return total_earnings\n",
    "\n",
    "# Input\n",
    "num_shoes = int(input())\n",
    "shoe_sizes = list(map(int, input().split()))\n",
    "num_customers = int(input())\n",
    "\n",
    "customer_requests = []\n",
    "for _ in range(num_customers):\n",
    "    request = tuple(map(int, input().split()))\n",
    "    customer_requests.append(request)\n",
    "\n",
    "# Compute earnings\n",
    "earnings = calculate_earnings(num_shoes, shoe_sizes, num_customers, customer_requests)\n",
    "\n",
    "# Output\n",
    "print(earnings)"
   ]
  }
 ],
 "metadata": {
  "language_info": {
   "name": "python"
  }
 },
 "nbformat": 4,
 "nbformat_minor": 2
}
