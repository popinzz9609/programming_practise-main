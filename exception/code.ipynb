{
 "cells": [
  {
   "cell_type": "markdown",
   "metadata": {},
   "source": [
    "You are given two values a and b .\n",
    "Perform integer division and print a/b ."
   ]
  },
  {
   "cell_type": "code",
   "execution_count": null,
   "metadata": {},
   "outputs": [],
   "source": [
    "# Read the number of test cases\n",
    "t = int(input())\n",
    "\n",
    "# Iterate through each test case\n",
    "for _ in range(t):\n",
    "    try:\n",
    "        # Read values a and b\n",
    "        a, b = map(int, input().split())\n",
    "        # Perform integer division\n",
    "        result = a // b\n",
    "        print(result)\n",
    "    except ZeroDivisionError as e:\n",
    "        # Handle ZeroDivisionError\n",
    "        print(\"Error Code:\", e)\n",
    "    except ValueError as e:\n",
    "        # Handle ValueError\n",
    "        print(\"Error Code:\", e)"
   ]
  }
 ],
 "metadata": {
  "language_info": {
   "name": "python"
  }
 },
 "nbformat": 4,
 "nbformat_minor": 2
}
