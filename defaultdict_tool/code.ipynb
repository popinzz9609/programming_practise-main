{
 "cells": [
  {
   "cell_type": "markdown",
   "metadata": {},
   "source": [
    "The defaultdict tool is a container in the collections class of Python. It's similar to the usual dictionary (dict) container, but the only difference is that a defaultdict will have a default value if that key has not been set yet. If you didn't use a defaultdict you'd have to check to see if that key exists, and if it doesn't, set it to what you want."
   ]
  },
  {
   "cell_type": "code",
   "execution_count": null,
   "metadata": {},
   "outputs": [],
   "source": [
    "from collections import defaultdict\n",
    "\n",
    "# Read input\n",
    "n, m = map(int, input().split())\n",
    "\n",
    "# Create defaultdict to store indices of words in group A\n",
    "word_indices = defaultdict(list)\n",
    "\n",
    "# Populate defaultdict with words from group A\n",
    "for i in range(1, n + 1):\n",
    "    word = input().strip()\n",
    "    word_indices[word].append(i)\n",
    "\n",
    "# Process group B and print indices\n",
    "for _ in range(m):\n",
    "    word = input().strip()\n",
    "    if word in word_indices:\n",
    "        print(\" \".join(map(str, word_indices[word])))\n",
    "    else:\n",
    "        print(-1)"
   ]
  }
 ],
 "metadata": {
  "language_info": {
   "name": "python"
  }
 },
 "nbformat": 4,
 "nbformat_minor": 2
}
