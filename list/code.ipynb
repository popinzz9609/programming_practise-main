{
 "cells": [
  {
   "cell_type": "markdown",
   "metadata": {},
   "source": [
    "Consider a list (list = []). You can perform the following commands:\n",
    "\n",
    "1.insert i e: Insert integer  at position .\n",
    "2.print: Print the list.\n",
    "3.remove e: Delete the first occurrence of integer .\n",
    "4.append e: Insert integer  at the end of the list.\n",
    "5.sort: Sort the list.\n",
    "6.pop: Pop the last element from the list.\n",
    "7.reverse: Reverse the list.\n",
    "Initialize your list and read in the value of n  followed by n lines of commands where each command will be of the 7 types listed above. Iterate through each command in order and perform the corresponding operation on your list."
   ]
  },
  {
   "cell_type": "code",
   "execution_count": 3,
   "metadata": {},
   "outputs": [],
   "source": [
    "if __name__ == '__main__':\n",
    "    N = int(input())\n",
    "    my_list = []\n",
    "    for _ in range(N):\n",
    "        command = input().split()\n",
    "        if command[0] == 'insert':\n",
    "            my_list.insert(int(command[1]), int(command[2]))\n",
    "        elif command[0] == 'print':\n",
    "            print(my_list)\n",
    "        elif command[0] == 'remove':\n",
    "            my_list.remove(int(command[1]))\n",
    "        elif command[0] == 'append':\n",
    "            my_list.append(int(command[1]))\n",
    "        elif command[0] == 'sort':\n",
    "            my_list.sort()\n",
    "        elif command[0] == 'pop':\n",
    "            my_list.pop()\n",
    "        elif command[0] == 'reverse':\n",
    "            my_list.reverse()\n"
   ]
  }
 ],
 "metadata": {
  "kernelspec": {
   "display_name": "Python 3",
   "language": "python",
   "name": "python3"
  },
  "language_info": {
   "codemirror_mode": {
    "name": "ipython",
    "version": 3
   },
   "file_extension": ".py",
   "mimetype": "text/x-python",
   "name": "python",
   "nbconvert_exporter": "python",
   "pygments_lexer": "ipython3",
   "version": "3.12.2"
  }
 },
 "nbformat": 4,
 "nbformat_minor": 2
}
